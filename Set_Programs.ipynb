{
  "nbformat": 4,
  "nbformat_minor": 0,
  "metadata": {
    "colab": {
      "provenance": [],
      "authorship_tag": "ABX9TyMJHIIqLtzW9DxJDp51Y44s",
      "include_colab_link": true
    },
    "kernelspec": {
      "name": "python3",
      "display_name": "Python 3"
    },
    "language_info": {
      "name": "python"
    }
  },
  "cells": [
    {
      "cell_type": "markdown",
      "metadata": {
        "id": "view-in-github",
        "colab_type": "text"
      },
      "source": [
        "<a href=\"https://colab.research.google.com/github/Sudheer-Arora/Set-Programs/blob/main/Set_Programs.ipynb\" target=\"_parent\"><img src=\"https://colab.research.google.com/assets/colab-badge.svg\" alt=\"Open In Colab\"/></a>"
      ]
    },
    {
      "cell_type": "code",
      "execution_count": 6,
      "metadata": {
        "colab": {
          "base_uri": "https://localhost:8080/"
        },
        "id": "9RGHCGrMBcaM",
        "outputId": "57700159-6cbe-42d9-d3ec-39dc635a36a6"
      },
      "outputs": [
        {
          "output_type": "stream",
          "name": "stdout",
          "text": [
            "Enter list[1,2,2,4,5,3,6,4]\n",
            "[1, 2, 2, 4, 5, 3, 6, 4]\n",
            "{1, 2, 3, 4, 5, 6}\n",
            "[1, 2, 3, 4, 5, 6]\n"
          ]
        }
      ],
      "source": [
        "# WAP to remove duplicates element in a given list\n",
        "l=eval(input('Enter list'))\n",
        "print(l)\n",
        "s=set(l)\n",
        "print(s)\n",
        "l=list(s)\n",
        "print(l)"
      ]
    },
    {
      "cell_type": "code",
      "source": [
        "#WAP to print different vowels in a given word\n",
        "w=input('enter any word')\n",
        "print(w)\n",
        "s={'a','e','i','o','u'}\n",
        "sw=set(w)\n",
        "print(sw)\n",
        "print(s&sw)"
      ],
      "metadata": {
        "colab": {
          "base_uri": "https://localhost:8080/"
        },
        "id": "tWbWcu9xCcKE",
        "outputId": "233d0cc9-0f87-47b4-b717-010f51ee60d6"
      },
      "execution_count": 9,
      "outputs": [
        {
          "output_type": "stream",
          "name": "stdout",
          "text": [
            "enter any wordska\n",
            "ska\n",
            "{'a', 'k', 's'}\n",
            "{'a'}\n"
          ]
        }
      ]
    },
    {
      "cell_type": "code",
      "source": [
        "#check if two sets are equal\n",
        "s1={1,2,3,4}\n",
        "s2={1,2,3,4,5}\n",
        "if s1==s2:\n",
        "    print('equal')\n",
        "else:\n",
        "    print('not equal')"
      ],
      "metadata": {
        "colab": {
          "base_uri": "https://localhost:8080/"
        },
        "id": "VZwRh626CuvT",
        "outputId": "b7c10628-724e-430c-f486-74227fa724df"
      },
      "execution_count": 10,
      "outputs": [
        {
          "output_type": "stream",
          "name": "stdout",
          "text": [
            "not equal\n"
          ]
        }
      ]
    },
    {
      "cell_type": "code",
      "source": [
        "#check if two given sets have no element in common\n",
        "s1={10,20,3}\n",
        "s2={2,4,6,1,8,9,}\n",
        "s3=s1&s2\n",
        "if len(s3)>0:\n",
        "    print(' element are common')\n",
        "else:\n",
        "    print('no element are common')"
      ],
      "metadata": {
        "colab": {
          "base_uri": "https://localhost:8080/"
        },
        "id": "uW_6Rv4wC4Pj",
        "outputId": "5e8402ec-e74a-4224-f414-16da13e34eb7"
      },
      "execution_count": 11,
      "outputs": [
        {
          "output_type": "stream",
          "name": "stdout",
          "text": [
            "no element are common\n"
          ]
        }
      ]
    }
  ]
}